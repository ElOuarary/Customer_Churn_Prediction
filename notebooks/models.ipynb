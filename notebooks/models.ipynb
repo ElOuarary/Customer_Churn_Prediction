{
 "cells": [
  {
   "cell_type": "code",
   "execution_count": 1,
   "id": "b8f1b22d",
   "metadata": {},
   "outputs": [],
   "source": [
    "import pandas as pd\n",
    "from pathlib import Path\n",
    "\n",
    "DATA_RAW_PATH = Path('..\\\\data\\\\raw')\n",
    "\n",
    "#This dataset contains raw data from the original dataset where the rows containg missing values where dropped\n",
    "data_raw_dropped = pd.read_csv(DATA_RAW_PATH/'version_dropped.csv', index_col='customerID')"
   ]
  },
  {
   "cell_type": "markdown",
   "id": "ad86af11",
   "metadata": {},
   "source": [
    "# Models Based On Raw Data"
   ]
  },
  {
   "cell_type": "markdown",
   "id": "13625cd3",
   "metadata": {},
   "source": [
    "## Version Missing Values Dropped"
   ]
  },
  {
   "cell_type": "code",
   "execution_count": 2,
   "id": "0a15ef00",
   "metadata": {},
   "outputs": [
    {
     "name": "stdout",
     "output_type": "stream",
     "text": [
      "<class 'pandas.core.frame.DataFrame'>\n",
      "Index: 7010 entries, 7590-VHVEG to 3186-AJIEK\n",
      "Data columns (total 20 columns):\n",
      " #   Column            Non-Null Count  Dtype  \n",
      "---  ------            --------------  -----  \n",
      " 0   gender            7010 non-null   object \n",
      " 1   SeniorCitizen     7010 non-null   int64  \n",
      " 2   Partner           7010 non-null   object \n",
      " 3   Dependents        7010 non-null   object \n",
      " 4   tenure            7010 non-null   int64  \n",
      " 5   PhoneService      7010 non-null   object \n",
      " 6   MultipleLines     7010 non-null   object \n",
      " 7   InternetService   7010 non-null   object \n",
      " 8   OnlineSecurity    7010 non-null   object \n",
      " 9   OnlineBackup      7010 non-null   object \n",
      " 10  DeviceProtection  7010 non-null   object \n",
      " 11  TechSupport       7010 non-null   object \n",
      " 12  StreamingTV       7010 non-null   object \n",
      " 13  StreamingMovies   7010 non-null   object \n",
      " 14  Contract          7010 non-null   object \n",
      " 15  PaperlessBilling  7010 non-null   object \n",
      " 16  PaymentMethod     7010 non-null   object \n",
      " 17  MonthlyCharges    7010 non-null   float64\n",
      " 18  TotalCharges      7010 non-null   float64\n",
      " 19  Churn             7010 non-null   object \n",
      "dtypes: float64(2), int64(2), object(16)\n",
      "memory usage: 1.1+ MB\n"
     ]
    }
   ],
   "source": [
    "data_raw_dropped.info()"
   ]
  },
  {
   "cell_type": "code",
   "execution_count": 3,
   "id": "26a7ca5c",
   "metadata": {},
   "outputs": [],
   "source": [
    "X = data_raw_dropped.drop('Churn', axis=1)\n",
    "y = data_raw_dropped['Churn']"
   ]
  },
  {
   "cell_type": "code",
   "execution_count": 27,
   "id": "40f359b4",
   "metadata": {},
   "outputs": [],
   "source": [
    "numerical_col = X.select_dtypes('number').columns\n",
    "categorical_col = X.select_dtypes(exclude='number').columns\n",
    "target_col = y.name"
   ]
  },
  {
   "cell_type": "code",
   "execution_count": 5,
   "id": "bae59e6b",
   "metadata": {},
   "outputs": [
    {
     "data": {
      "text/plain": [
       "Index(['tenure', 'MonthlyCharges', 'TotalCharges'], dtype='object')"
      ]
     },
     "execution_count": 5,
     "metadata": {},
     "output_type": "execute_result"
    }
   ],
   "source": [
    "numerical_col[1: ]"
   ]
  },
  {
   "cell_type": "code",
   "execution_count": 6,
   "id": "26c4f10c",
   "metadata": {},
   "outputs": [
    {
     "data": {
      "text/plain": [
       "Index(['gender', 'Partner', 'Dependents', 'PhoneService', 'MultipleLines',\n",
       "       'InternetService', 'OnlineSecurity', 'OnlineBackup', 'DeviceProtection',\n",
       "       'TechSupport', 'StreamingTV', 'StreamingMovies', 'Contract',\n",
       "       'PaperlessBilling', 'PaymentMethod'],\n",
       "      dtype='object')"
      ]
     },
     "execution_count": 6,
     "metadata": {},
     "output_type": "execute_result"
    }
   ],
   "source": [
    "categorical_col"
   ]
  },
  {
   "cell_type": "code",
   "execution_count": 28,
   "id": "dbdbbb64",
   "metadata": {},
   "outputs": [
    {
     "data": {
      "text/plain": [
       "'Churn'"
      ]
     },
     "execution_count": 28,
     "metadata": {},
     "output_type": "execute_result"
    }
   ],
   "source": [
    "target_col"
   ]
  },
  {
   "cell_type": "code",
   "execution_count": 33,
   "id": "6efe7e64",
   "metadata": {},
   "outputs": [],
   "source": [
    "from sklearn.compose import make_column_transformer\n",
    "from sklearn.model_selection import train_test_split\n",
    "from sklearn.pipeline import Pipeline\n",
    "from sklearn.preprocessing import LabelEncoder, OrdinalEncoder, StandardScaler\n",
    "\n",
    "inputs_processor = make_column_transformer(\n",
    "    (OrdinalEncoder(), categorical_col),\n",
    "    (StandardScaler(), numerical_col)\n",
    ")\n",
    "\n",
    "target_enc = LabelEncoder()\n",
    "\n",
    "raw_data_pipeline = Pipeline([('preprocessing raw data', inputs_processor)])\n",
    "\n",
    "X_train, X_test, y_train, y_test = train_test_split(X, y, test_size=0.2, stratify=y)\n",
    "\n",
    "X_train = raw_data_pipeline.fit_transform(X_train)\n",
    "y_train = target_enc.fit_transform(y_train)"
   ]
  },
  {
   "cell_type": "code",
   "execution_count": null,
   "id": "f2d8bdbb",
   "metadata": {},
   "outputs": [
    {
     "data": {
      "text/plain": [
       "array(['No', 'Yes'], dtype=object)"
      ]
     },
     "execution_count": 35,
     "metadata": {},
     "output_type": "execute_result"
    }
   ],
   "source": []
  }
 ],
 "metadata": {
  "kernelspec": {
   "display_name": ".venv",
   "language": "python",
   "name": "python3"
  },
  "language_info": {
   "codemirror_mode": {
    "name": "ipython",
    "version": 3
   },
   "file_extension": ".py",
   "mimetype": "text/x-python",
   "name": "python",
   "nbconvert_exporter": "python",
   "pygments_lexer": "ipython3",
   "version": "3.13.2"
  }
 },
 "nbformat": 4,
 "nbformat_minor": 5
}
